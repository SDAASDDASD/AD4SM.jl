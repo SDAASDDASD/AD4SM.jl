{
 "cells": [
  {
   "cell_type": "markdown",
   "metadata": {},
   "source": [
    "# 3D spring example"
   ]
  },
  {
   "cell_type": "markdown",
   "metadata": {},
   "source": [
    "### Preamble"
   ]
  },
  {
   "cell_type": "markdown",
   "metadata": {},
   "source": [
    "- Include the necesary modules from Julia's standard repositories.\n",
    "- Here we run on 16 cores for parallel evaluation of the elements contribution to free energy, thus we need to import the Distributed module"
   ]
  },
  {
   "cell_type": "code",
   "execution_count": 1,
   "metadata": {},
   "outputs": [],
   "source": [
    "using Distributed\n",
    "using Statistics, LinearAlgebra\n",
    "using Printf, WriteVTK, AbaqusReader\n",
    "using PyCall, PyPlot, JLD, ProgressMeter"
   ]
  },
  {
   "cell_type": "code",
   "execution_count": 2,
   "metadata": {},
   "outputs": [],
   "source": [
    "@everywhere include(\"adiff.jl\")\n",
    "@everywhere include(\"materials.jl\")\n",
    "@everywhere include(\"elements.jl\")\n",
    ";"
   ]
  },
  {
   "cell_type": "markdown",
   "metadata": {},
   "source": [
    "this makes sure that the loop over the elements is split between 16 independent thread"
   ]
  },
  {
   "cell_type": "code",
   "execution_count": 3,
   "metadata": {},
   "outputs": [
    {
     "name": "stdout",
     "output_type": "stream",
     "text": [
      "Elements.setp(16) = 16\n"
     ]
    }
   ],
   "source": [
    "@show Elements.setp(16)\n",
    ";"
   ]
  },
  {
   "cell_type": "code",
   "execution_count": 4,
   "metadata": {},
   "outputs": [],
   "source": [
    "sMeshFile = \"3DSpringFineMesh.inp\"\n",
    "mat       = Materials.NeoHooke(10)\n",
    "bisinc    = true\n",
    "sVTKpath  = \"./vtk_files/\"\n",
    "dTol      = 1e-8\n",
    "bVTKall   = true\n",
    ";"
   ]
  },
  {
   "cell_type": "code",
   "execution_count": 5,
   "metadata": {},
   "outputs": [],
   "source": [
    "Δz        = 500\n",
    "sPosFix   = \"NH_beta\"\n",
    "N         = 50\n",
    "LF        = range(0, 1.0, length=N)\n",
    ";"
   ]
  },
  {
   "cell_type": "code",
   "execution_count": 6,
   "metadata": {},
   "outputs": [
    {
     "name": "stderr",
     "output_type": "stream",
     "text": [
      "┌ Info: 5086 nodes found\n",
      "└ @ AbaqusReader /u1/vian294/.julia/packages/AbaqusReader/SDhGN/src/parse_mesh.jl:109\n",
      "┌ Info: Parsing elements. Type: C3D4. Topology: Tet4\n",
      "└ @ AbaqusReader /u1/vian294/.julia/packages/AbaqusReader/SDhGN/src/parse_mesh.jl:153\n",
      "┌ Info: Adding elset: Evolumes\n",
      "└ @ AbaqusReader /u1/vian294/.julia/packages/AbaqusReader/SDhGN/src/parse_mesh.jl:88\n",
      "┌ Info: Creating elset Eall\n",
      "└ @ AbaqusReader /u1/vian294/.julia/packages/AbaqusReader/SDhGN/src/parse_mesh.jl:187\n",
      "┌ Info: Creating elset SolidMaterial002Solid\n",
      "└ @ AbaqusReader /u1/vian294/.julia/packages/AbaqusReader/SDhGN/src/parse_mesh.jl:187\n",
      "┌ Info: Creating nset BTM\n",
      "└ @ AbaqusReader /u1/vian294/.julia/packages/AbaqusReader/SDhGN/src/parse_mesh.jl:187\n",
      "┌ Info: Creating nset TOP\n",
      "└ @ AbaqusReader /u1/vian294/.julia/packages/AbaqusReader/SDhGN/src/parse_mesh.jl:187\n"
     ]
    }
   ],
   "source": [
    "sFileName = splitext(sMeshFile)[1]*sPosFix\n",
    "mymodel   = AbaqusReader.abaqus_read_mesh(sMeshFile)\n",
    "nodes     = [mymodel[\"nodes\"][ii] for ii in 1:mymodel[\"nodes\"].count]\n",
    "el_nodes  = [item[2]              for item in mymodel[\"elements\"]] \n",
    "id_b      = mymodel[\"node_sets\"][\"BTM\"]\n",
    "id_t      = mymodel[\"node_sets\"][\"TOP\"]\n",
    ";"
   ]
  },
  {
   "cell_type": "code",
   "execution_count": 7,
   "metadata": {},
   "outputs": [
    {
     "name": "stdout",
     "output_type": "stream",
     "text": [
      "(nNodes, nElems) = (length(nodes), length(el_nodes)) = (5086, 18871)\n"
     ]
    }
   ],
   "source": [
    "points    = hcat(nodes...)\n",
    "cells     = [ MeshCell(VTKCellTypes.VTK_TETRA, nodes)\n",
    "    for nodes in el_nodes]\n",
    "elems     = [ Elements.Tet04(item[2], nodes[item[2]], mat=mat)\n",
    "    for item in  mymodel[\"elements\"] ]\n",
    "n_t, n_b = length(id_t), length(id_b)\n",
    "@show nNodes, nElems   = length(nodes), length(el_nodes)\n",
    ";"
   ]
  },
  {
   "cell_type": "raw",
   "metadata": {},
   "source": [
    "idxx  = LinearIndices((3,nNodes))\n",
    "eqns0 = vcat([Elements.ConstEq(x->elem.V*(Elements.getJ(elem, x)-1), idxx[:,elem.nodes][:], adiff.D2)\n",
    "              for elem in elems]...)\n",
    ";"
   ]
  },
  {
   "cell_type": "code",
   "execution_count": 8,
   "metadata": {},
   "outputs": [],
   "source": [
    "idxx  = LinearIndices((3,nNodes))\n",
    "eqns0 = vcat([Elements.ConstEq(x-> begin\n",
    "                                 J = Elements.getJ(Elements.getF(elem, x)) \n",
    "                                 elem.V*(J-1)\n",
    "                               end, idxx[:,elem.nodes][:])\n",
    "              for elem in elems]...)\n",
    ";"
   ]
  },
  {
   "cell_type": "raw",
   "metadata": {},
   "source": [
    "idxx  = LinearIndices((3,nNodes))\n",
    "eqns0 = vcat([Elements.ConstEq(x-> begin\n",
    "                                     J = Elements.getJ(elem, x)\n",
    "                                     elem.V*(J-1)\n",
    "                                   end, idxx[:,elem.nodes][:])\n",
    "                  for elem in elems]...)\n",
    ";"
   ]
  },
  {
   "cell_type": "markdown",
   "metadata": {},
   "source": [
    "using LinearAlgebra, Printf, SparseArrays, IterativeSolvers\n",
    "using PyPlot, PyCall, ProgressMeter, Dates, StatsBase\n",
    "using Distributed\n",
    "\n",
    "using ..adiff, ..Materials\n",
    "import ..Materials.getϕ\n"
   ]
  },
  {
   "cell_type": "code",
   "execution_count": 9,
   "metadata": {},
   "outputs": [],
   "source": [
    "using ProgressMeter, SparseArrays, Dates\n",
    "# import ..Materials.getϕ\n",
    "\n",
    "# using IterativeSolvers"
   ]
  },
  {
   "cell_type": "code",
   "execution_count": 28,
   "metadata": {},
   "outputs": [],
   "source": [
    "# solver \n",
    "function solvestep!(elems, u, bfreeu;\n",
    "                    fe        = zeros(length(u)),\n",
    "                    eqns      = [],\n",
    "                    λ         = zeros(length(eqns)),\n",
    "                    dTol      = 1e-6,\n",
    "                    dTolu     = dTol,\n",
    "                    dTole     = dTol,\n",
    "                    dTolupdt  = dTol,\n",
    "                    dNoise    = 1e-12,\n",
    "                    maxiter   = 6,\n",
    "                    becho     = false,\n",
    "                    bprogress = false)\n",
    "\n",
    "  if bprogress\n",
    "    p = ProgressMeter.ProgressThresh(dTol)\n",
    "  end\n",
    "\n",
    "\n",
    "  ifreeu    = findall(bfreeu[:])\n",
    "  icnstu    = findall(.!bfreeu[:])\n",
    "\n",
    "  nEqs      = length(eqns)\n",
    "  nfreeu    = length(ifreeu)\n",
    "  ncnstu    = length(icnstu)\n",
    "  nDoFs     = nfreeu + nEqs\n",
    "  ncDoFs    = ncnstu + nEqs\n",
    "  iius      = 1:nfreeu\n",
    "  iieqs     = nfreeu .+ (1:nEqs)\n",
    "\n",
    "  bdone     = false\n",
    "  bfailed   = false\n",
    "  iter      = 0\n",
    "\n",
    "  if nEqs !=0\n",
    "    Ntot = nfreeu+nEqs\n",
    "    H    = spzeros(Ntot, Ntot)\n",
    "    updt = zeros(Ntot)\n",
    "  end\n",
    "\n",
    "  normupdt = NaN\n",
    "  becho && println() \n",
    "  while !bdone & !bfailed \n",
    "    global normr\n",
    "    tic = Base.time_ns()\n",
    "    (Φ, fi, Kt) = Elements.getϕ(elems, u)\n",
    "    if nEqs == 0\n",
    "      res   = fi[ifreeu]-fe[ifreeu]\n",
    "      norm0 = norm(fi[icnstu])/ncnstu\n",
    "    else\n",
    "      (vEqs,rEqs,KEqs) = Elements.getϕ(eqns, u, λ)\n",
    "      resu  = fi[ifreeu]-fe[ifreeu]-rEqs[ifreeu,:]*λ\n",
    "      rese  = -vEqs\n",
    "      res   = vcat(resu, rese)\n",
    "      norm0 = ncnstu>0 ? maximum(abs.(fi[icnstu])) : 0.0\n",
    "    end\n",
    "\n",
    "    # normresu = maximum(abs.(resu))/dTolu\n",
    "    # normrese = maximum(abs.(rese))/dTole\n",
    "    normresu = norm(resu)/nfreeu/dTolu\n",
    "    normrese = norm(rese)/nEqs/dTole\n",
    "    normr    = max(normresu,normrese)\n",
    "    if (normr<1) | (normupdt<dTolupdt)\n",
    "      bdone   = true\n",
    "      fe[:]   = nEqs==0 ? fi[:] : fi[:]-rEqs*λ\n",
    "    elseif iter < maxiter\n",
    "      if nEqs == 0\n",
    "        updt      = Kt[ifreeu,ifreeu]\\res\n",
    "        u[ifreeu] .-= updt\n",
    "      else\n",
    "        H[iius,iius]   = Kt[ifreeu,ifreeu]-KEqs[ifreeu,ifreeu]\n",
    "        H[iius,iieqs]  = -rEqs[ifreeu,:]\n",
    "        H[iieqs,iius]  = transpose(H[iius,iieqs])\n",
    "        H[iieqs,iieqs] = spdiagm(0=>dNoise*randn(nEqs))\n",
    "        # updt           = H\\res\n",
    "        updt          = qr(H)\\res\n",
    "        # updt          = lu(H)\\res\n",
    "        # minres!(updt,H,res)\n",
    "        u[ifreeu]     .-= updt[iius]\n",
    "        λ             .-= updt[iieqs]\n",
    "        normupdt = maximum(abs.(updt))\n",
    "      end              \n",
    "    else\n",
    "      bfailed = true\n",
    "    end    \n",
    "    iter  += 1\n",
    "    bprogress && ProgressMeter.update!(p, normr)\n",
    "    becho && @printf(\"iter: %2i, normresu: %.2e, normrese: %.2e, normr: %.2e, normupdt: %.2e, eltime: %.2f sec. \\n\", \n",
    "              iter, normresu, normrese, normr, \n",
    "              normupdt, Int64(Base.time_ns()-tic)/1e9)\n",
    "    becho && flush(stdout)\n",
    "  end\n",
    "\n",
    "  (bfailed, normr, iter)\n",
    "end\n",
    ";"
   ]
  },
  {
   "cell_type": "code",
   "execution_count": 30,
   "metadata": {},
   "outputs": [],
   "source": [
    "ifree  = trues(3, nNodes)  \n",
    "unew  = zeros(3, nNodes)\n",
    "λnew  = zeros(length(eqns0)+6)\n",
    "idxes  = LinearIndices(unew)\n",
    "fnew   = zeros(3, nNodes)\n",
    "allus  = []\n",
    "N      = 100\n",
    "LF     = range(0, 1.0, length=N)\n",
    ";"
   ]
  },
  {
   "cell_type": "code",
   "execution_count": 34,
   "metadata": {},
   "outputs": [
    {
     "name": "stdout",
     "output_type": "stream",
     "text": [
      "doing step   2, LF = 0.010, w0 = 5.051\n",
      "iter:  1, normresu: 0.00e+00, normrese: 1.89e-01, normr: 1.89e-01, normupdt: NaN, eltime: 18.73 sec. \n",
      "step  2 done in  1 iter, after 18.73 sec.\n",
      "\n"
     ]
    }
   ],
   "source": [
    "ii   = 2\n",
    "w0   = LF[ii]*Δz \n",
    "\n",
    "@printf(\"doing step %3i, LF = %.3f, w0 = %.3f\", ii, LF[ii], w0); flush(stdout)\n",
    "eqns = vcat(eqns0,\n",
    "            Elements.ConstEq(x->sum(x),          idxes[1,id_t][:], adiff.D1),\n",
    "            Elements.ConstEq(x->sum(x),          idxes[2,id_t][:], adiff.D1),\n",
    "            Elements.ConstEq(x->sum(x)/n_t+w0/2, idxes[3,id_t][:], adiff.D1),\n",
    "            Elements.ConstEq(x->sum(x),          idxes[1,id_b][:], adiff.D1),\n",
    "            Elements.ConstEq(x->sum(x),          idxes[2,id_b][:], adiff.D1),\n",
    "            Elements.ConstEq(x->sum(x)/n_b-w0/2, idxes[3,id_b][:], adiff.D1)) \n",
    "T     = @elapsed (bfailed, normr, iter) = \n",
    "    solvestep!(elems, unew, ifree, \n",
    "                eqns      = eqns,\n",
    "                λ         = λnew,\n",
    "                dTolu     = 1e-7,\n",
    "                dTole     = 1e-3,\n",
    "                dNoise    = 0,\n",
    "                maxiter   = 5,\n",
    "                bprogress = false,\n",
    "                becho     = true)\n",
    "if bfailed \n",
    "  @printf(\"\\n!! failed at LF: %.3f, with normr/dTol: %.3e\\n\", LF[ii], normr/dTol)\n",
    "else\n",
    "  lastu = copy(unew)\n",
    "  lastλ = copy(λnew)\n",
    "  @printf(\"step %2i done in %2i iter, after %.2f sec.\\n\\n\", ii, iter, T)\n",
    "end\n"
   ]
  },
  {
   "cell_type": "code",
   "execution_count": 39,
   "metadata": {},
   "outputs": [],
   "source": [
    "ifreeu    = findall(ifree[:])\n",
    "\n",
    "@time (Φ, fi, Kt) = Elements.getϕ(elems, unew)\n",
    "@time (vEqs,rEqs,KEqs) = Elements.getϕ(eqns, unew, λnew)"
   ]
  },
  {
   "cell_type": "code",
   "execution_count": 41,
   "metadata": {},
   "outputs": [],
   "source": [
    "resu  = fi[ifreeu]-fnew[ifreeu]-rEqs[ifreeu,:]*λnew\n",
    "rese  = -vEqs\n",
    "res   = vcat(resu, rese)\n",
    "\n",
    ";"
   ]
  },
  {
   "cell_type": "code",
   "execution_count": 36,
   "metadata": {},
   "outputs": [
    {
     "data": {
      "image/png": "[encoded data removed]",
      "text/plain": [
       "Figure(PyObject <matplotlib.figure.Figure object at 0x2aab3c19c710>)"
      ]
     },
     "metadata": {},
     "output_type": "display_data"
    }
   ],
   "source": [
    "PyPlot.plot(log10.(abs.(sort(fnew[:]))))\n",
    ";"
   ]
  },
  {
   "cell_type": "code",
   "execution_count": 55,
   "metadata": {},
   "outputs": [
    {
     "data": {
      "image/png": "[encoded data removed]",
      "text/plain": [
       "Figure(PyObject <matplotlib.figure.Figure object at 0x2aab3c82cad0>)"
      ]
     },
     "metadata": {},
     "output_type": "display_data"
    }
   ],
   "source": [
    "PyPlot.plot(log10.(abs.(sort(λnew[1:end-6]))))\n",
    ";"
   ]
  },
  {
   "cell_type": "code",
   "execution_count": 49,
   "metadata": {},
   "outputs": [
    {
     "name": "stdout",
     "output_type": "stream",
     "text": [
      "doing step   1, LF = 0.000, w0 = 0.000\n",
      "iter:  1, normresu: 2.60e+04, normrese: 0.00e+00, normr: 2.60e+04, normupdt: 1.90e+10, eltime: 11.79 sec. \n",
      "iter:  2, normresu: 1.92e+05, normrese: 4.22e-07, normr: 1.92e+05, normupdt: 1.91e-04, eltime: 14.43 sec. \n",
      "iter:  3, normresu: 5.69e-01, normrese: 1.33e-05, normr: 5.69e-01, normupdt: 1.91e-04, eltime: 11.00 sec. \n",
      "step  1 done in  3 iter, after 37.22 sec.\n",
      "\n",
      "doing step   2, LF = 0.010, w0 = 5.051\n",
      "iter:  1, normresu: 5.69e-01, normrese: 1.89e-01, normr: 5.69e-01, normupdt: NaN, eltime: 10.97 sec. \n",
      "step  2 done in  1 iter, after 10.97 sec.\n",
      "\n",
      "doing step   3, LF = 0.020, w0 = 10.101\n",
      "iter:  1, normresu: 5.69e-01, normrese: 3.78e-01, normr: 5.69e-01, normupdt: NaN, eltime: 11.09 sec. \n",
      "step  3 done in  1 iter, after 11.09 sec.\n",
      "\n",
      "doing step   4, LF = 0.030, w0 = 15.152\n",
      "iter:  1, normresu: 5.69e-01, normrese: 5.68e-01, normr: 5.69e-01, normupdt: NaN, eltime: 11.00 sec. \n",
      "step  4 done in  1 iter, after 11.00 sec.\n",
      "\n",
      "doing step   5, LF = 0.040, w0 = 20.202\n",
      "iter:  1, normresu: 5.69e-01, normrese: 7.57e-01, normr: 7.57e-01, normupdt: NaN, eltime: 10.98 sec. \n",
      "step  5 done in  1 iter, after 10.98 sec.\n",
      "\n",
      "doing step   6, LF = 0.051, w0 = 25.253\n",
      "iter:  1, normresu: 5.69e-01, normrese: 9.46e-01, normr: 9.46e-01, normupdt: NaN, eltime: 11.07 sec. \n",
      "step  6 done in  1 iter, after 11.07 sec.\n",
      "\n",
      "doing step   7, LF = 0.061, w0 = 30.303\n",
      "iter:  1, normresu: 5.69e-01, normrese: 1.14e+00, normr: 1.14e+00, normupdt: 1.49e+00, eltime: 14.18 sec. \n",
      "iter:  2, normresu: 4.56e+05, normrese: 1.12e+00, normr: 4.56e+05, normupdt: 8.39e+01, eltime: 14.28 sec. \n",
      "iter:  3, normresu: 2.67e+05, normrese: 1.12e+00, normr: 2.67e+05, normupdt: 5.06e-01, eltime: 14.19 sec. \n",
      "iter:  4, normresu: 1.05e+05, normrese: 1.12e+00, normr: 1.05e+05, normupdt: 1.86e+02, eltime: 17.04 sec. \n",
      "iter:  5, normresu: 6.44e+04, normrese: 1.12e+00, normr: 6.44e+04, normupdt: 1.16e+01, eltime: 15.17 sec. \n",
      "iter:  6, normresu: 6.95e+03, normrese: 1.12e+00, normr: 6.95e+03, normupdt: 2.06e+01, eltime: 14.16 sec. \n",
      "iter:  7, normresu: 1.77e+03, normrese: 1.12e+00, normr: 1.77e+03, normupdt: 4.75e+00, eltime: 14.28 sec. \n",
      "iter:  8, normresu: 2.58e+02, normrese: 1.12e+00, normr: 2.58e+02, normupdt: 4.60e+00, eltime: 14.19 sec. \n",
      "iter:  9, normresu: 9.70e+01, normrese: 1.12e+00, normr: 9.70e+01, normupdt: 1.18e+00, eltime: 14.32 sec. \n",
      "iter: 10, normresu: 1.82e+01, normrese: 1.12e+00, normr: 1.82e+01, normupdt: 1.00e+00, eltime: 14.19 sec. \n",
      "iter: 11, normresu: 1.30e+01, normrese: 1.12e+00, normr: 1.30e+01, normupdt: 2.77e-01, eltime: 14.32 sec. \n",
      "iter: 12, normresu: 1.22e+01, normrese: 1.12e+00, normr: 1.22e+01, normupdt: 2.18e-01, eltime: 14.18 sec. \n",
      "iter: 13, normresu: 1.21e+01, normrese: 1.12e+00, normr: 1.21e+01, normupdt: 6.40e-02, eltime: 14.17 sec. \n",
      "iter: 14, normresu: 1.21e+01, normrese: 1.12e+00, normr: 1.21e+01, normupdt: 4.73e-02, eltime: 14.22 sec. \n",
      "iter: 15, normresu: 1.21e+01, normrese: 1.12e+00, normr: 1.21e+01, normupdt: 1.44e-02, eltime: 14.16 sec. \n",
      "iter: 16, normresu: 1.21e+01, normrese: 1.12e+00, normr: 1.21e+01, normupdt: 1.00e-02, eltime: 14.25 sec. \n",
      "iter: 17, normresu: 1.21e+01, normrese: 1.12e+00, normr: 1.21e+01, normupdt: 1.00e-02, eltime: 11.04 sec. \n",
      "step  7 done in 17 iter, after 242.41 sec.\n",
      "\n",
      "doing step   8, LF = 0.071, w0 = 35.354\n",
      "iter:  1, normresu: 1.21e+01, normrese: 1.31e+00, normr: 1.21e+01, normupdt: 1.72e+01, eltime: 14.30 sec. \n",
      "iter:  2, normresu: 5.64e+03, normrese: 1.31e+00, normr: 5.64e+03, normupdt: 4.49e+00, eltime: 14.27 sec. \n",
      "iter:  3, normresu: 4.20e+02, normrese: 1.31e+00, normr: 4.20e+02, normupdt: 4.95e+00, eltime: 14.27 sec. \n",
      "iter:  4, normresu: 1.25e+02, normrese: 1.31e+00, normr: 1.25e+02, normupdt: 4.85e-01, eltime: 14.23 sec. \n",
      "iter:  5, normresu: 3.29e+01, normrese: 1.31e+00, normr: 3.29e+01, normupdt: 1.42e+00, eltime: 14.28 sec. \n",
      "iter:  6, normresu: 1.74e+01, normrese: 1.31e+00, normr: 1.74e+01, normupdt: 1.80e-01, eltime: 14.20 sec. \n",
      "iter:  7, normresu: 1.45e+01, normrese: 1.31e+00, normr: 1.45e+01, normupdt: 4.05e-01, eltime: 14.33 sec. \n",
      "iter:  8, normresu: 1.43e+01, normrese: 1.31e+00, normr: 1.43e+01, normupdt: 7.25e-02, eltime: 14.23 sec. \n",
      "iter:  9, normresu: 1.43e+01, normrese: 1.31e+00, normr: 1.43e+01, normupdt: 1.20e-01, eltime: 14.29 sec. \n",
      "iter: 10, normresu: 1.43e+01, normrese: 1.31e+00, normr: 1.43e+01, normupdt: 2.78e-02, eltime: 14.21 sec. \n",
      "iter: 11, normresu: 1.43e+01, normrese: 1.31e+00, normr: 1.43e+01, normupdt: 3.55e-02, eltime: 14.27 sec. \n",
      "iter: 12, normresu: 1.43e+01, normrese: 1.31e+00, normr: 1.43e+01, normupdt: 9.80e-03, eltime: 14.26 sec. \n",
      "iter: 13, normresu: 1.43e+01, normrese: 1.31e+00, normr: 1.43e+01, normupdt: 9.80e-03, eltime: 11.06 sec. \n",
      "step  8 done in 13 iter, after 182.23 sec.\n",
      "\n",
      "doing step   9, LF = 0.081, w0 = 40.404\n",
      "iter:  1, normresu: 1.43e+01, normrese: 1.50e+00, normr: 1.43e+01, normupdt: 1.27e+01, eltime: 14.26 sec. \n",
      "iter:  2, normresu: 5.66e+03, normrese: 1.50e+00, normr: 5.66e+03, normupdt: 1.05e+01, eltime: 14.22 sec. \n",
      "iter:  3, normresu: 1.26e+03, normrese: 1.50e+00, normr: 1.26e+03, normupdt: 8.29e+00, eltime: 14.24 sec. \n",
      "iter:  4, normresu: 5.67e+02, normrese: 1.50e+00, normr: 5.67e+02, normupdt: 5.09e+00, eltime: 14.17 sec. \n",
      "iter:  5, normresu: 4.37e+02, normrese: 1.50e+00, normr: 4.37e+02, normupdt: 5.19e+00, eltime: 14.32 sec. \n",
      "iter:  6, normresu: 3.22e+02, normrese: 1.50e+00, normr: 3.22e+02, normupdt: 4.26e+00, eltime: 14.15 sec. \n",
      "iter:  7, normresu: 2.56e+02, normrese: 1.50e+00, normr: 2.56e+02, normupdt: 3.89e+00, eltime: 14.30 sec. \n",
      "iter:  8, normresu: 2.02e+02, normrese: 1.50e+00, normr: 2.02e+02, normupdt: 3.43e+00, eltime: 14.18 sec. \n",
      "iter:  9, normresu: 1.61e+02, normrese: 1.50e+00, normr: 1.61e+02, normupdt: 3.07e+00, eltime: 14.26 sec. \n",
      "iter: 10, normresu: 1.28e+02, normrese: 1.50e+00, normr: 1.28e+02, normupdt: 2.73e+00, eltime: 14.46 sec. \n",
      "iter: 11, normresu: 1.03e+02, normrese: 1.50e+00, normr: 1.03e+02, normupdt: 2.44e+00, eltime: 15.88 sec. \n",
      "iter: 12, normresu: 8.22e+01, normrese: 1.50e+00, normr: 8.22e+01, normupdt: 2.18e+00, eltime: 14.26 sec. \n",
      "iter: 13, normresu: 6.62e+01, normrese: 1.50e+00, normr: 6.62e+01, normupdt: 1.94e+00, eltime: 14.32 sec. \n",
      "iter: 14, normresu: 5.36e+01, normrese: 1.50e+00, normr: 5.36e+01, normupdt: 1.73e+00, eltime: 14.22 sec. \n",
      "iter: 15, normresu: 4.38e+01, normrese: 1.50e+00, normr: 4.38e+01, normupdt: 1.55e+00, eltime: 14.78 sec. \n",
      "iter: 16, normresu: 3.62e+01, normrese: 1.50e+00, normr: 3.62e+01, normupdt: 1.38e+00, eltime: 13.66 sec. \n",
      "iter: 17, normresu: 3.04e+01, normrese: 1.50e+00, normr: 3.04e+01, normupdt: 1.23e+00, eltime: 13.49 sec. \n",
      "iter: 18, normresu: 2.61e+01, normrese: 1.50e+00, normr: 2.61e+01, normupdt: 1.10e+00, eltime: 13.49 sec. \n",
      "iter: 19, normresu: 2.30e+01, normrese: 1.50e+00, normr: 2.30e+01, normupdt: 9.83e-01, eltime: 13.46 sec. \n",
      "iter: 20, normresu: 2.07e+01, normrese: 1.50e+00, normr: 2.07e+01, normupdt: 8.78e-01, eltime: 13.46 sec. \n",
      "iter: 21, normresu: 1.91e+01, normrese: 1.50e+00, normr: 1.91e+01, normupdt: 7.83e-01, eltime: 13.49 sec. \n",
      "iter: 22, normresu: 1.80e+01, normrese: 1.50e+00, normr: 1.80e+01, normupdt: 7.83e-01, eltime: 10.45 sec. \n",
      "!! failed at LF: 0.081, with normr/dTol: 1.804e+06\n",
      "\n",
      "completed in 13 minutes, 45 seconds\n"
     ]
    }
   ],
   "source": [
    "ifree = trues(3, nNodes)  \n",
    "unew  = zeros(3, nNodes)\n",
    "λnew  = zeros(length(eqns0)+6)\n",
    "idxes = LinearIndices(unew)\n",
    "fnew  = zeros(3, nNodes)\n",
    "allus = []\n",
    "N     = 100\n",
    "dTol  = 1e-5\n",
    "\n",
    "LF    = range(0, 1.0, length=100)\n",
    "\n",
    "t0    = Base.time_ns()\n",
    "for (ii,LF) in enumerate(LF)\n",
    "    w0  = LF*Δz \n",
    "    @printf(\"doing step %3i, LF = %.3f, w0 = %.3f\", ii, LF, w0); flush(stdout)\n",
    "\n",
    "    eqns = vcat(eqns0,\n",
    "                Elements.ConstEq(x->sum(x),          idxes[1,id_t][:], adiff.D1),\n",
    "                Elements.ConstEq(x->sum(x),          idxes[2,id_t][:], adiff.D1),\n",
    "                Elements.ConstEq(x->sum(x)/n_t+w0/2, idxes[3,id_t][:], adiff.D1),\n",
    "                Elements.ConstEq(x->sum(x),          idxes[1,id_b][:], adiff.D1),\n",
    "                Elements.ConstEq(x->sum(x),          idxes[2,id_b][:], adiff.D1),\n",
    "                Elements.ConstEq(x->sum(x)/n_b-w0/2, idxes[3,id_b][:], adiff.D1)) \n",
    "\n",
    "    lastu = copy(unew)\n",
    "    lastλ = copy(λnew)\n",
    "    fnew  = zeros(3, nNodes)\n",
    "    T     = @elapsed (bfailed, normr, iter) = \n",
    "        solvestep!(elems, unew, ifree, \n",
    "                    eqns      = eqns,\n",
    "                    λ         = λnew,\n",
    "                    fe        = fnew, \n",
    "                    dTolu     = 1e-5,\n",
    "                    dTole     = 1e-3,\n",
    "                    dTolupdt  = 1e-2,\n",
    "                    dNoise    = 0,\n",
    "                    maxiter   = 21,\n",
    "                    bprogress = false,\n",
    "                    becho     = true)\n",
    "    if bfailed \n",
    "      @printf(\"!! failed at LF: %.3f, with normr/dTol: %.3e\\n\\n\", LF, normr/dTol)\n",
    "      unew = lastu\n",
    "      λnew = lastλ\n",
    "      break\n",
    "    else\n",
    "      push!(allus, (copy(unew), copy(fnew), copy(λnew)))\n",
    "      @printf(\"step %2i done in %2i iter, after %.2f sec.\\n\\n\", ii, iter, T)\n",
    "    end\n",
    "end\n",
    "@printf(\"completed in %s\\n\",(Base.time_ns()-t0)÷1e9|>Dates.Second|>Dates.CompoundPeriod|>\n",
    "        Dates.canonicalize)"
   ]
  },
  {
   "cell_type": "code",
   "execution_count": 48,
   "metadata": {},
   "outputs": [
    {
     "data": {
      "image/png": "[encoded data removed]",
      "text/plain": [
       "Figure(PyObject <matplotlib.figure.Figure object at 0x2aab3c19ce90>)"
      ]
     },
     "metadata": {},
     "output_type": "display_data"
    }
   ],
   "source": [
    "  rf_tot = [sum(item[2][3, id_b])   for item in allus]\n",
    "  Δu_tot = [mean(item[1][3, id_b])  for item in allus]\n",
    "\n",
    "PyPlot.plot(Δu_tot, rf_tot)\n",
    "PyPlot.ylabel(\"Rf\")\n",
    "PyPlot.xlabel(\"Δu\")\n",
    ";"
   ]
  },
  {
   "cell_type": "code",
   "execution_count": 12,
   "metadata": {},
   "outputs": [
    {
     "name": "stdout",
     "output_type": "stream",
     "text": [
      "results written to 3DSpringFineMeshNH_beta\n"
     ]
    }
   ],
   "source": [
    "  JLD.save(sFileName*\".jld\", \"nodes\", nodes, \"elems\", elems, \"allus\", allus,\n",
    "           \"points\", points, \"cells\", cells, \"LF\", LF, \"mat\", mat, \n",
    "           \"Nsteps\", length(LF), \"id_b\", id_b, \"id_t\", id_t, \n",
    "           \"rf_tot\", rf_tot, \"Δu_tot\", Δu_tot, \"sFileName\", sFileName)\n",
    "  @printf(\"results written to %s\\n\", sFileName)"
   ]
  },
  {
   "cell_type": "code",
   "execution_count": 29,
   "metadata": {},
   "outputs": [
    {
     "name": "stderr",
     "output_type": "stream",
     "text": [
      "\u001b[32msaving to 3DSpringFineMeshNH_beta.pvd - 100%|███████████| Time: 0:00:15\u001b[39m\n"
     ]
    },
    {
     "data": {
      "text/plain": [
       "6-element Array{String,1}:\n",
       " \"./vtk_files/3DSpringFineMeshNH_beta.pvd\"    \n",
       " \"./vtk_files/3DSpringFineMeshNH_beta_001.vtu\"\n",
       " \"./vtk_files/3DSpringFineMeshNH_beta_002.vtu\"\n",
       " \"./vtk_files/3DSpringFineMeshNH_beta_003.vtu\"\n",
       " \"./vtk_files/3DSpringFineMeshNH_beta_004.vtu\"\n",
       " \"./vtk_files/3DSpringFineMeshNH_beta_005.vtu\""
      ]
     },
     "execution_count": 29,
     "metadata": {},
     "output_type": "execute_result"
    }
   ],
   "source": [
    "#\n",
    "p = ProgressMeter.Progress(length(allus), desc=\"saving to \"*sFileName*\".pvd - \")\n",
    "paraview_collection(sVTKpath*sFileName) do pvd\n",
    "  for (ii, item) in enumerate(allus)\n",
    "    (u0,rf) = item[1:2]\n",
    "    F   = Elements.getinfo(elems,u0,info=:F)\n",
    "    LE  = Elements.getinfo(elems,u0,info=:LE)\n",
    "    J   = [det(F) for F in F]\n",
    "    E   = [0.5*(transpose(F)*F-I) for F in F]\n",
    "    σ   = [Materials.getinfo(F,mat,info=:σ)        for F in F]  # Cauchy stress\n",
    "    S   = [Materials.getinfo(F,mat,info=:S)        for F in F]  # 2nd PK\n",
    "    Ii  = [Materials.getInvariants(transpose(F)F)  for F in F]  # 2nd PK\n",
    "    σP  = [sort(eigvals(σ))  for σ  in σ]\n",
    "    σVM = [sqrt((x[1]-x[2])^2+(x[2]-x[3])^2+(x[3]-x[1])^2)/sqrt(2)  for x in σP]\n",
    "\n",
    "    vtkobj  = vtk_grid(@sprintf(\"%s_%03i\", sVTKpath*sFileName, ii), points+u0, cells)\n",
    "    vtk_point_data(vtkobj, (u0[1,:],u0[2,:],u0[3,:]),                   \"u\")\n",
    "    vtk_point_data(vtkobj, (rf[1,:],rf[2,:],rf[3,:]),                   \"rf\")\n",
    "    vtk_cell_data(vtkobj,  tuple([getindex.(F,ii)  for ii in 1:9]...),  \"F\")\n",
    "    vtk_cell_data(vtkobj,  tuple([getindex.(LE,ii)  for ii in 1:9]...), \"LE\")\n",
    "    vtk_cell_data(vtkobj,  J,   \"J\")\n",
    "    vtk_cell_data(vtkobj,  tuple([getindex.(σ,ii)   for ii in 1:9]...), \"\\$\\\\sigma\\$\")\n",
    "    vtk_cell_data(vtkobj,  tuple([getindex.(σP,ii)  for ii in 1:3]...), \"\\$\\\\sigma_p\\$\")\n",
    "    vtk_cell_data(vtkobj,  tuple([getindex.(Ii,ii)  for ii in 1:3]...), \"I\")\n",
    "    vtk_cell_data(vtkobj,  σVM, \"\\$\\\\sigma_{VM}\\$\")\n",
    "\n",
    "    collection_add_timestep(pvd, vtkobj, ii)\n",
    "    vtk_save(vtkobj)\n",
    "    ProgressMeter.next!(p)        \n",
    "  end\n",
    "end  \n"
   ]
  },
  {
   "cell_type": "code",
   "execution_count": null,
   "metadata": {},
   "outputs": [],
   "source": []
  }
 ],
 "metadata": {
  "kernelspec": {
   "display_name": "Julia 1.1.0",
   "language": "julia",
   "name": "julia-1.1.0"
  },
  "language_info": {
   "file_extension": ".jl",
   "mimetype": "application/julia",
   "name": "julia",
   "version": "1.1.0"
  }
 },
 "nbformat": 4,
 "nbformat_minor": 2
}
