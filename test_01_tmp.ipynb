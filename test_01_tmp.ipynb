{
 "cells": [
  {
   "cell_type": "code",
   "execution_count": 1,
   "metadata": {},
   "outputs": [],
   "source": [
    "using Printf, SparseArrays, LinearAlgebra\n",
    "using IterativeSolvers, BenchmarkTools, Statistics\n",
    "using PyPlot\n",
    "using AbaqusReader, PyCall\n",
    "using DelimitedFiles, ProgressMeter, MAT\n",
    "\n",
    "# import LinearAlgebra.svd"
   ]
  },
  {
   "cell_type": "code",
   "execution_count": 2,
   "metadata": {},
   "outputs": [
    {
     "name": "stderr",
     "output_type": "stream",
     "text": [
      "┌ Info: Recompiling stale cache file /home/andrea/.julia/compiled/v1.1/StatsBase/EZjIG.ji for StatsBase [2913bbd2-ae8a-5f71-8c99-4fb6c76f3a91]\n",
      "└ @ Base loading.jl:1184\n"
     ]
    }
   ],
   "source": [
    "include(\"adiff.jl\")\n",
    "include(\"materials.jl\")\n",
    "include(\"elements.jl\")\n",
    "include(\"autodiff_truss.jl\")\n",
    ";"
   ]
  },
  {
   "cell_type": "code",
   "execution_count": 3,
   "metadata": {},
   "outputs": [
    {
     "data": {
      "text/plain": [
       "calcFiKt (generic function with 2 methods)"
      ]
     },
     "execution_count": 3,
     "metadata": {},
     "output_type": "execute_result"
    }
   ],
   "source": [
    "function calcFiKt(u, nodes, beams)\n",
    "  \n",
    "  N = length(u)\n",
    "  ϕ, r, Kt = 0, spzeros(N), spzeros(N,N)\n",
    "  \n",
    "  for beam in beams\n",
    "    idxs          = LinearIndices(u)[beam[:],:]    \n",
    "    ϕFiKt         = calcFiKt(nodes[idxs], u[idxs])\n",
    "    idxs          = idxs[:]\n",
    "    ϕ             += ϕFiKt[1]\n",
    "    r[idxs]       += ϕFiKt[2]\n",
    "    Kt[idxs,idxs] += ϕFiKt[3]\n",
    "  end\n",
    "  (ϕ, r, Kt)  \n",
    "end\n",
    "\n",
    "function calcFiKt(nodes, u)\n",
    "  \n",
    "  C        =  diagm(0=>ones(6))\n",
    "  C[2:14:30] .= C[7:14:35] .= -1\n",
    "\n",
    "  l0       = norm(nodes[2,:]-nodes[1,:])\n",
    "  Δr       = nodes[2,:]+u[2,:] - (nodes[1,:]+u[1,:])\n",
    "  l        = norm(Δr)  \n",
    "  Δx,Δy,Δz = Δr[:]\n",
    "  dphidl   = (l/l0-1)/l0\n",
    "  dphi2dl2 = 1/l0^2  \n",
    "  dldu     = [-Δx, Δx, -Δy, Δy, -Δz, Δz]/l;\n",
    "  fact1    = -dphidl/l^2 + dphi2dl2/l;\n",
    "  \n",
    "  ϕ        = (1/2) *(l/l0-1)^2\n",
    "  r        = dphidl * dldu;\n",
    "  Kt       = fact1*l*(dldu*transpose(dldu)) + (dphidl/l)*C\n",
    "\n",
    "  (ϕ, r, Kt)\n",
    "end"
   ]
  },
  {
   "cell_type": "code",
   "execution_count": 4,
   "metadata": {},
   "outputs": [],
   "source": [
    "function getϕD2(u, nodes, beams)\n",
    "  \n",
    "  N = length(u)\n",
    "  ϕ, r, C = 0, spzeros(N), spzeros(N,N)\n",
    "  \n",
    "  for beam in beams\n",
    "    idxs         = LinearIndices(u)[beam[:],:]    \n",
    "    ϕEl          = getϕ(nodes[idxs], adiff.D2(u[idxs]))\n",
    "    idxs         = idxs[:]\n",
    "    ϕ            += adiff.val(ϕEl)\n",
    "    r[idxs]      += adiff.grad(ϕEl)\n",
    "    C[idxs,idxs] += adiff.hess(ϕEl)\n",
    "  end  \n",
    "  (ϕ, r, C) \n",
    "end\n",
    "\n",
    "function getϕ(nodes, u)\n",
    "  \n",
    "  l₀ = norm(nodes[1,:] - nodes[2,:])\n",
    "  l  = norm((nodes[1,:]+u[1,:])-(nodes[2,:]+u[2,:]))\n",
    "  ϕ  = 1/2*(l/l₀-1)^2  \n",
    "end\n",
    ";"
   ]
  },
  {
   "cell_type": "code",
   "execution_count": 5,
   "metadata": {},
   "outputs": [
    {
     "data": {
      "text/plain": [
       "findu! (generic function with 1 method)"
      ]
     },
     "execution_count": 5,
     "metadata": {},
     "output_type": "execute_result"
    }
   ],
   "source": [
    "function findu!(u, nodes, beams, idxf;\n",
    "    bverb   = false, \n",
    "    dTol    = 1e-6,\n",
    "    maxiter = 30, \n",
    "    bdual   = true)\n",
    "  \n",
    "  nDoFs   = length(idxf)\n",
    "  updt    = zeros(nDoFs)\n",
    "  iter    = 0\n",
    "  bdone   = false\n",
    "  bfailed = false\n",
    "  \n",
    "  if bverb\n",
    "    p = ProgressThresh(dTol, \"resudual norm:\")\n",
    "  end\n",
    "  while !bdone && !bfailed\n",
    "    global ϕ, r, C\n",
    "    if bdual\n",
    "      (ϕ, r, C)   = getϕD2(u, nodes, beams)\n",
    "    else\n",
    "      (ϕ, r, C)   = calcFiKt(u, nodes, beams)\n",
    "    end\n",
    "      \n",
    "    res         = r[idxf]\n",
    "    normr       = norm(res)/nDoFs\n",
    "    bverb && update!(p, normr)\n",
    "    if normr ≤ dTol\n",
    "       bdone = true\n",
    "    elseif iter ≤ maxiter\n",
    "        minres!(updt, C[idxf,idxf], res)\n",
    "        u[idxf] -= updt\n",
    "        iter += 1\n",
    "    else\n",
    "      println(\"failed to converge!\")\n",
    "      bfailed = true\n",
    "    end\n",
    "  end\n",
    "  return ((ϕ, r, C), !bfailed)\n",
    "end"
   ]
  },
  {
   "cell_type": "code",
   "execution_count": 6,
   "metadata": {},
   "outputs": [],
   "source": [
    "L0    = sqrt(2)/2\n",
    "nodes_RVE = [[0, 0, -sqrt(2)/2],\n",
    "    [0, 0, sqrt(2)/2],\n",
    "    [-1/2, -1/2, 0],\n",
    "    [1/2, -1/2, 0],\n",
    "    [1/2, 1/2, 0],\n",
    "    [-1/2, 1/2, 0],\n",
    "    [0, -1, sqrt(2)/2],\n",
    "    [1, 0, sqrt(2)/2],\n",
    "    [0, 1, sqrt(2)/2],\n",
    "    [-1, 0, sqrt(2)/2],\n",
    "    [0, -1, -sqrt(2)/2],\n",
    "    [1, 0, -sqrt(2)/2],\n",
    "    [0, 1, -sqrt(2)/2],\n",
    "    [-1, 0, -sqrt(2)/2]] * L0\n",
    "beams_RVE = [[9 5], [7 3], [8 4], [10 3], \n",
    "  [7 4], [9 6], [8 5], [10 6],\n",
    "  [1 3], [1 4], [1 5], [1 6], [11 3],\n",
    "  [13 5], [2 3], [2 4], [2 5], [2 6],\n",
    "  [3 4], [4 5], [5 6], [6 3], [7 2], [8 2],\n",
    "  [9 2], [10 2], [11 1],\n",
    "  [12 1], [12 4], [12 5], [13 1], [13 6],\n",
    "  [14 1], [14 3], [11 4], [14 6]]\n",
    "R      = zeros(3,3)\n",
    "R[1,:] = [sqrt(2)/2, sqrt(2)/2, 0]\n",
    "R[2,:] = [sqrt(2)/2, -sqrt(2)/2, 0]\n",
    "R[3,:] = [0, 0, 1];\n",
    "nodes_RVE  = [R*v for v in nodes_RVE]\n",
    "\n",
    ";"
   ]
  }
 ],
 "metadata": {
  "kernelspec": {
   "display_name": "Julia 1.1.0",
   "language": "julia",
   "name": "julia-1.1.0"
  },
  "language_info": {
   "file_extension": ".jl",
   "mimetype": "application/julia",
   "name": "julia",
   "version": "1.1.0"
  }
 },
 "nbformat": 4,
 "nbformat_minor": 2
}
